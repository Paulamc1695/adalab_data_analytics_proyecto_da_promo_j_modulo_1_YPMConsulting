{
 "cells": [
  {
   "cell_type": "markdown",
   "metadata": {},
   "source": [
    "Preguntas y Respuestas\n",
    "\n",
    "\n",
    "- Reglas del Juego de \"Preguntas y Respuestas de Geografía\":\n",
    "    - El juego consiste en hacer preguntas de geografía y que el jugador adivine la respuesta correcta.\n",
    "\n",
    "    - Cada pregunta tiene una respuesta única y correcta.\n",
    "\n",
    "    - El jugador tiene un número limitado de intentos para responder correctamente a cada pregunta.\n",
    "\n",
    "    - El juego sigue hasta que el jugador responda incorrectamente 3 de veces o haya respondido 5 preguntas correctamente.\n",
    "\n",
    "\n",
    "- Pistas para las alumnas:\n",
    "\n",
    "    1. Comienza creando un diccionario que contenga preguntas de geografía como claves y respuestas como valores.\n",
    "\n",
    "    2. Implementa una función para seleccionar una pregunta aleatoria del diccionario.\n",
    "\n",
    "    3. Utiliza un bucle `while` para hacer preguntas de geografía hasta que el jugador responda un número específico de preguntas correctamente o alcance un número máximo de respuestas incorrectas.\n",
    "\n",
    "    4. Dentro del bucle, presenta la pregunta al jugador y permita que ingresen sus respuestas.\n",
    "\n",
    "    5. Lleva un seguimiento del número de preguntas realizadas y el número de respuestas correctas.\n",
    "\n",
    "\n",
    "\n",
    "    6. Determina las condiciones de victoria y derrota del juego y sal del bucle cuando se cumplan estas condiciones."
   ]
  },
  {
   "cell_type": "code",
   "execution_count": 15,
   "metadata": {},
   "outputs": [
    {
     "name": "stdout",
     "output_type": "stream",
     "text": [
      "Bienvendid@ al juego de preguntas y respuestas, tu objetivo es acertar 5 preguntas para ganar el juego, si fallas 3 veces pierdes el juego\n",
      "\n",
      "Pregunta 1: ¿Cuál es la capital de Alemania?\n",
      "Respuesta incorrecta. La respuesta correcta es: berlin\n",
      "Respuestas correctas 0 y respuestas incorrectas 1\n",
      "\n",
      "Pregunta 2: ¿Cuál es la capital de Alemania?\n",
      "Respuesta incorrecta. La respuesta correcta es: berlin\n",
      "Respuestas correctas 0 y respuestas incorrectas 2\n",
      "\n",
      "Pregunta 3: ¿Cuál es la capital de Alemania?\n",
      "Respuesta incorrecta. La respuesta correcta es: berlin\n",
      "Respuestas correctas 0 y respuestas incorrectas 3\n",
      "\n",
      "\n",
      "¡FIN DEL JUEGO!\n",
      "¡HAS PERDIDO, SIGUE INTENTÁNDOLO!\n"
     ]
    }
   ],
   "source": [
    "import random\n",
    "\n",
    "# 1. Comienza creando un diccionario que contenga preguntas de geografía como claves y respuestas como valores.\n",
    "preguntas_geografia = {\n",
    "    \"¿Cuál es la capital de España?\": \"Madrid\",\n",
    "    \"¿Cuál es la capital de Francia?\": \"Paris\",\n",
    "    \"¿Cuál es la capital de Portugal?\": \"Lisboa\",\n",
    "    \"¿Cuál es la capital de Alemania?\": \"Berlin\"}\n",
    "\n",
    "#2. Implementa una función para seleccionar una pregunta aleatoria del diccionario.\n",
    "# Usamos el metodo Keys para obtener las claves y con la funcion list lo pasamos a lista porque con random no se puede hacer un choice de un diccionario daria error.\n",
    "def seleccionar_pregunta (preguntas):\n",
    "    pregunta = random.choice(list(preguntas.keys()))     # accedemos a un elemento de lista de forma aleatoria con el random\n",
    "    return pregunta\n",
    "\n",
    "# 3. Utiliza un bucle `while` para hacer preguntas de geografía hasta que el jugador responda un número específico de preguntas correctamente o \n",
    "# alcance un número máximo de respuestas incorrectas.\n",
    "# utilizamos el bucle while que indica que mientras fallos < 3 y aciertos < 5 sigo jugando\n",
    "\n",
    "print(\"Bienvendid@ al juego de preguntas y respuestas, tu objetivo es acertar 5 preguntas para ganar el juego, si fallas 3 veces pierdes el juego\")\n",
    "\n",
    "# Creamos variables para ir almacenando los contadores que vamos a necesitar ( aciertos, fallos y preguntas). Los inicializo a cero\n",
    "numero_respuestas_correctas = 0\n",
    "numero_respuestas_incorrectas = 0\n",
    "numero_preguntas = 0\n",
    "\n",
    "while numero_respuestas_incorrectas < 3 and numero_respuestas_correctas < 5: # estamos dentro del bucle\n",
    "    pregunta = seleccionar_pregunta(preguntas_geografia)                   # llamamos a la funcion para seleccionar pregunta\n",
    "    numero_preguntas += 1\n",
    "    print(f\"\\nPregunta {numero_preguntas}: {pregunta}\")\n",
    "    respuesta_usuario = input(\"Responde a la pregunta:\").lower()          # le preguntamos al usuario, usamos metodo.lower para validar may y min\n",
    "    respuesta_correcta = preguntas_geografia[pregunta].lower()            # para obtener la respuesta correcta del diccionario lo obtengo a traves de la clave\n",
    "    if respuesta_usuario == respuesta_correcta:\n",
    "        print(\"Respuesta correcta\")\n",
    "        numero_respuestas_correctas += 1\n",
    "    else:\n",
    "        print(f\"Respuesta incorrecta. La respuesta correcta es: {respuesta_correcta}\")\n",
    "        numero_respuestas_incorrectas +=1\n",
    "    print(f\"Respuestas correctas {numero_respuestas_correctas} y respuestas incorrectas {numero_respuestas_incorrectas}\")\n",
    "\n",
    "print(\"\\n\\n¡FIN DEL JUEGO!\")\n",
    "\n",
    "if numero_respuestas_correctas == 5:\n",
    "    print(\"¡ENHORABUENA, HAS GANADO!\")\n",
    "else:\n",
    "    print(\"¡HAS PERDIDO, SIGUE INTENTÁNDOLO!\")\n",
    "\n",
    "\n"
   ]
  }
 ],
 "metadata": {
  "kernelspec": {
   "display_name": "base",
   "language": "python",
   "name": "python3"
  },
  "language_info": {
   "codemirror_mode": {
    "name": "ipython",
    "version": 3
   },
   "file_extension": ".py",
   "mimetype": "text/x-python",
   "name": "python",
   "nbconvert_exporter": "python",
   "pygments_lexer": "ipython3",
   "version": "3.11.7"
  }
 },
 "nbformat": 4,
 "nbformat_minor": 2
}
