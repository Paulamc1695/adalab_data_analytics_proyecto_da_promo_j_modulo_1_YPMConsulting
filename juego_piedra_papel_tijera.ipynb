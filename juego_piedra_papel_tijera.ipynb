{
 "cells": [
  {
   "cell_type": "markdown",
   "metadata": {},
   "source": [
    "#Saludar al usuario y darle la bienvenida\n",
    "print(\"---¡Bienvenido al juego piedra, papel o tijera!---\")\n",
    "#Preguntarle si quiere piedra, papel o tijera \n",
    "arma = input(\"Elije tu armar para jugar\")\n",
    "print(f\"Has elegido {arma}\")\n",
    "#que el ordenador elija de manera aleatoria su tirada\n",
    "\n",
    "\n",
    "#comparar las dos tiradas\n",
    "#mostrar quién ha ganado.\n",
    "#contra la maquina\n",
    "#PUNTOS IMPORTANTES PARA HACER TRABAJO COLABORATIVO EN GITHUB\n",
    "# ++ Clonar el proyecto en Visual (git clone  URL del proyecto), debemos estar en la carpeta de Adalab\n",
    "# ++ Hacer pull para descargar la ultima version\n",
    "# ++ Tener en cuenta que en el momento de hacer cambios en el notebook para no alterar el codigo que ha realizado la compañera, creemos otra casilla code con nuestra propuesta\n",
    "# ++ Una vez terminado nuestro trabajo hacemos un push y describimos a traves del COMMIT lo que hemos realizado asi la compi sabra un poco los cambios que hemos hecho\n",
    "## Ahora si a manos a la obra!! Trituradoras de Codigo\n",
    "\n",
    "1 bienvenida al juego\n",
    "2 eleccion de piedra papel o tijera\n",
    "3 blucle (true / false)\n",
    "4 dar valor a las armas \n",
    "5 contador de intentos (max 3)\n",
    "\n"
   ]
  },
  {
   "cell_type": "code",
   "execution_count": 18,
   "metadata": {},
   "outputs": [],
   "source": [
    "armas = [\"piedra\",\"papel\",\"tijera\"]\n",
    "import random\n",
    "computadora = random.choice(armas)\n",
    "jugador = input(\"Bienvenida al juego escoge piedra, papel o tijera\").lower()\n",
    "\n",
    "if jugador == armas[0] and computadora == armas[1]:\n",
    "    print(\"jugador:piedra, computadora: papel. Computadora gana\")\n",
    "elif jugador == armas[1] and computadora == armas[0]:\n",
    "    print(\"jugador:papel, computadora: piedra. Computadora pierde\")\n",
    "elif jugador == armas[2] and computadora == armas[0]:\n",
    "    print(\"jugador:tijera, computadora: piedra. Computadora gana\")\n",
    "\n"
   ]
  },
  {
   "cell_type": "code",
   "execution_count": 2,
   "metadata": {},
   "outputs": [
    {
     "name": "stdout",
     "output_type": "stream",
     "text": [
      "Bienvenida al juego escoge piedra, papel o tijera\n"
     ]
    },
    {
     "name": "stdout",
     "output_type": "stream",
     "text": [
      "GANA COMPUTADORA\n",
      "EMPATE\n",
      "EMPATE\n",
      "Resultado final: Jugador 0, Computadora 1, Empates 2\n"
     ]
    }
   ],
   "source": [
    "\n",
    "#print (\"Inicio del juego : Computadora elije :\", computadora, \" ---- Jugador elige:\", jugador)\n",
    "\n",
    "\n",
    "import random\n",
    "\n",
    "puntos_jugador = 0\n",
    "puntos_computadora = 0\n",
    "empate = 0\n",
    "armas = [\"piedra\",\"papel\",\"tijera\"]\n",
    "intentos_ronda = 3\n",
    "#computadora = random.choice(armas)\n",
    "\n",
    "print(\"Bienvenida al juego escoge piedra, papel o tijera\")\n",
    "\n",
    "for ronda in range(intentos_ronda): \n",
    "    computadora = random.choice(armas) \n",
    "    jugador = input(\"Bienvenida al juego escoge piedra, papel o tijera\").lower()\n",
    "\n",
    "    if((jugador == \"piedra\" and computadora == \"papel\") \n",
    "        or (jugador == \"papel\" and computadora == \"tijera\") \n",
    "        or (jugador == \"tijera\" and computadora == \"piedra\")):\n",
    "        puntos_computadora = puntos_computadora+ 1\n",
    "        puntos_computadora > 0\n",
    "        print (\"GANA COMPUTADORA\")\n",
    "\n",
    "    elif((jugador == \"piedra\" and computadora == \"tijera\") \n",
    "        or (jugador == \"papel\" and computadora == \"piedra\") \n",
    "        or (jugador == \"tijera\" and computadora == \"papel\")):\n",
    "        puntos_jugador = puntos_jugador +1\n",
    "        puntos_jugador > 0\n",
    "        print(\"GANA JUGADOR\")\n",
    "    else:\n",
    "        empate = empate + 1\n",
    "        print (\"EMPATE\")\n",
    "  \n",
    "    intentos_ronda +=1 \n",
    "   \n",
    "print(f\"Resultado final: Jugador {puntos_jugador}, Computadora {puntos_computadora}, Empates {empate}\")\n"
   ]
  },
  {
   "cell_type": "code",
   "execution_count": null,
   "metadata": {},
   "outputs": [],
   "source": []
  }
 ],
 "metadata": {
  "kernelspec": {
   "display_name": "base",
   "language": "python",
   "name": "python3"
  },
  "language_info": {
   "codemirror_mode": {
    "name": "ipython",
    "version": 3
   },
   "file_extension": ".py",
   "mimetype": "text/x-python",
   "name": "python",
   "nbconvert_exporter": "python",
   "pygments_lexer": "ipython3",
   "version": "3.11.7"
  }
 },
 "nbformat": 4,
 "nbformat_minor": 2
}
